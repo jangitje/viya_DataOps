{
 "cells": [
  {
   "attachments": {},
   "cell_type": "markdown",
   "id": "bda94074",
   "metadata": {},
   "source": [
    "#### Modules"
   ]
  },
  {
   "cell_type": "code",
   "execution_count": 1,
   "id": "ad3883ac-514c-46e4-a029-3fb52b0a8a64",
   "metadata": {},
   "outputs": [],
   "source": [
    "import requests\n",
    "import json, os, pprint\n",
    "import getpass\n",
    "import base64\n",
    "import urllib.parse\n",
    "\n",
    "#import utils.Viya_REST_API\n",
    "\n",
    "requests.packages.urllib3.disable_warnings()"
   ]
  },
  {
   "cell_type": "markdown",
   "id": "32e7b323-9d6b-4a28-9283-26e39127fe29",
   "metadata": {},
   "source": [
    "#### Parameters"
   ]
  },
  {
   "cell_type": "code",
   "execution_count": 3,
   "id": "50e98a52-07a3-4ebb-8d1a-268dc6dd6fb7",
   "metadata": {},
   "outputs": [],
   "source": [
    "hostport=\"https://sasserver.demo.sas.com:443\"\n",
    "path = \"/data/sascode/viya_dataOps\"\n",
    "target_root = '/public/VSCODE'\n",
    "target_folder = 'viya_DataOps'\n"
   ]
  },
  {
   "cell_type": "markdown",
   "id": "bd73f712-0372-456b-bbf8-86bd07316a9b",
   "metadata": {},
   "source": [
    "#### Functions"
   ]
  },
  {
   "cell_type": "code",
   "execution_count": 4,
   "id": "a51fe0f7-64b6-4be0-89f5-5240fabe441e",
   "metadata": {},
   "outputs": [],
   "source": [
    "#### Get ID of folder\n",
    "def get_folder_id (hostport, authToken, folder_path):\n",
    "    url = hostport + '/folders/folders/@item?path=' + folder_path\n",
    "\n",
    "    headers = {\n",
    "      'Accept': 'application/vnd.sas.content.folder+json',  \n",
    "      'Authorization': 'Bearer ' + authToken\n",
    "    }\n",
    "\n",
    "    response = requests.get( url, headers = headers, verify=False)\n",
    "    # target_id = response.json().get(\"id\")\n",
    "    # print(target_id)\n",
    "    return response\n",
    "\n",
    "#### Delete folder in recursively, both folder and files\n",
    "def delete_folder_recursively(hostport, authToken, target_id):\n",
    "\n",
    "    if target_id is None:\n",
    "      print(\"Target folder does not seem to exist, nothing deleted\")\n",
    "      return\n",
    "    # Get the members of the target folder\n",
    "    url = hostport + '/folders/folders/' + target_id + '/members?recursive=true'\n",
    "    headers = {\n",
    "      'Authorization': 'Bearer ' + authToken\n",
    "    }\n",
    "    \n",
    "    response = requests.get( url, headers = headers, verify=False)\n",
    "    if response.reason == 'OK':\n",
    "        # Delete all the files in the target folder \n",
    "        item_list = []\n",
    "        items = response.json().get(\"items\")\n",
    "        item_list = [x[\"uri\"] for x in items if x['contentType'] == 'file']\n",
    "        #print(item_list)\n",
    "        for i in item_list:\n",
    "            url = hostport + i\n",
    "            response = requests.delete( url, headers = headers, verify=False)\n",
    "            # pprint.pprint(result.json())\n",
    "\n",
    "        # Delete the target foldwer recursively\n",
    "        url = hostport + '/folders/folders/' + target_id + '?recursive=true';\n",
    "        response = requests.delete( url, headers = headers, verify=False)\n",
    "        #pprint.pprint(result.json())\n",
    "    else:\n",
    "        print(\"Target folder does not seem to exist, nothing deleted\")\n",
    "    \n",
    "    return response\n",
    "\n",
    "#### Create folder\n",
    "def create_folder (hostport, authToken, parent_uri, current_dir):\n",
    "    url = hostport + '/folders/folders'\n",
    "    \n",
    "    headers = {\n",
    "      'Content-Type': 'application/vnd.sas.content.folder+json',\n",
    "      'Accept': 'application/vnd.sas.content.folder+json',\n",
    "      'Authorization': 'Bearer ' + authToken\n",
    "    }\n",
    "    \n",
    "    body = {\n",
    "       'parentFolderUri': '/folders/folders/' + parent_uri,\n",
    "       'name': current_dir\n",
    "    }\n",
    "    \n",
    "    response = requests.post( url, \n",
    "                              data = json.dumps(body), \n",
    "                              headers = headers,\n",
    "                              verify = False)\n",
    "    return response\n",
    "\n",
    "#### Upload file\n",
    "def upload_file (hostport, authToken, infile, name):\n",
    "    url = hostport + '/files/files'\n",
    "\n",
    "    headers = {\n",
    "      'Content-Type': 'multipart/form-data',\n",
    "      'Accept': 'application/vnd.sas.file+json',\n",
    "      'Content-Disposition': 'attachment; file=' + name + '; filename=' + name,\n",
    "      'Content-Type': 'text/plain',\n",
    "      'Content-Transfer-Encoding': 'binary',\n",
    "      'Authorization': 'Bearer ' + authToken  \n",
    "    }\n",
    "\n",
    "    with open(infile, 'r') as file:\n",
    "        body = file.read().rstrip()\n",
    "    \n",
    "    response = requests.post(url, \n",
    "                      headers = headers,\n",
    "                      data = body,\n",
    "                      verify=False)\n",
    "    # id_file = r.json().get('id')\n",
    "    # print(id_file)   \n",
    "    return response\n",
    "\n",
    "#### Associate file with folder\n",
    "def associate_file_with_folder (hostport, authToken, folder_id, file_id, name):\n",
    "\n",
    "    url = hostport + '/folders/folders/' + folder_id + '/members'\n",
    "\n",
    "    headers = {\n",
    "      'Content-Type': 'application/vnd.sas.content.folder.member+json',  \n",
    "      'Authorization': 'Bearer ' + authToken\n",
    "    }\n",
    "\n",
    "    body = {\n",
    "        \"name\": name,\n",
    "        \"uri\": \"/files/files/\" + file_id,\n",
    "        \"type\": \"reference\",\n",
    "        \"contentType\": \"file\"\n",
    "    }\n",
    "\n",
    "    response = requests.post( url, \n",
    "                      headers = headers,\n",
    "                      data = json.dumps(body),\n",
    "                      verify=False)\n",
    "    return response\n",
    "\n"
   ]
  },
  {
   "cell_type": "markdown",
   "id": "3914a94c-9006-43e4-afc1-0e6d3d652d95",
   "metadata": {},
   "source": [
    "#### Get token"
   ]
  },
  {
   "cell_type": "code",
   "execution_count": 5,
   "id": "71c0902d-5ba3-4d8e-a547-976d468e282d",
   "metadata": {},
   "outputs": [],
   "source": [
    "#Get Authorization Token\n",
    "authUri=\"/SASLogon/oauth/token\"\n",
    "\n",
    "headersAuth={\n",
    "    \"accept\":\"application/json\",\n",
    "    \"content-type\":\"application/x-www-form-urlencoded\",\n",
    "    \"Authorization\":\"Basic c2FzLmVjOg==\"\n",
    "}\n",
    "authToken=\"\"\n",
    "user=\"\"\n",
    "password=\"\"\n",
    "notAuthed=True\n",
    "\n",
    "while notAuthed :\n",
    "    user = input(\"Enter user ID: \")\n",
    "    password =  urllib.parse.quote(getpass.getpass('Enter password for user %s:' % user))\n",
    "    authBody='grant_type=password&username=' + user + '&password=' + password\n",
    "    authReturn = requests.post(hostport+authUri, data=authBody, headers=headersAuth, verify=False)\n",
    "    if authReturn.status_code == requests.codes.ok :\n",
    "        authToken = authReturn.json()['access_token']\n",
    "        notAuthed = False\n",
    "    else :\n",
    "        print(\"Please enter a valid user ID and password.\")\n",
    "    \n",
    "password = \"\""
   ]
  },
  {
   "cell_type": "markdown",
   "id": "7685d5b2-b2e3-4177-93fb-133e731c1f23",
   "metadata": {},
   "source": [
    "#### Get ID of root and target folder (if exist)"
   ]
  },
  {
   "cell_type": "code",
   "execution_count": 8,
   "id": "30bc990b-b064-4d81-bec4-5456e22e1648",
   "metadata": {
    "tags": []
   },
   "outputs": [
    {
     "name": "stdout",
     "output_type": "stream",
     "text": [
      "44953de2-92f2-459f-9cc7-ca26932b332d\n",
      "4d0c376b-5fe0-4124-80ac-93abf867fb08\n"
     ]
    }
   ],
   "source": [
    "folder_path = target_root + '/' + target_folder\n",
    "response = get_folder_id (hostport, authToken, folder_path)\n",
    "target_id = response.json().get(\"id\")\n",
    "print(target_id)\n",
    "\n",
    "folder_path = target_root\n",
    "response = get_folder_id (hostport, authToken, folder_path)\n",
    "root_id = response.json().get(\"id\")\n",
    "print(root_id)"
   ]
  },
  {
   "cell_type": "markdown",
   "id": "1b25a794-63da-4a0e-a86c-648f8b3ef811",
   "metadata": {},
   "source": [
    "#### Delete target folder recursively"
   ]
  },
  {
   "cell_type": "code",
   "execution_count": 9,
   "id": "ff3abbd5-33f3-4b73-8c13-6055367587be",
   "metadata": {},
   "outputs": [
    {
     "data": {
      "text/plain": [
       "<Response [204]>"
      ]
     },
     "execution_count": 9,
     "metadata": {},
     "output_type": "execute_result"
    }
   ],
   "source": [
    "delete_folder_recursively(hostport, authToken, target_id)\n"
   ]
  },
  {
   "cell_type": "markdown",
   "id": "bd91c47b-ec3b-416d-a5c8-22bf509ed10d",
   "metadata": {},
   "source": [
    "#### Create folders and files"
   ]
  },
  {
   "cell_type": "code",
   "execution_count": 10,
   "id": "262df668-db5d-4004-b02c-4a130d9a7ffd",
   "metadata": {},
   "outputs": [
    {
     "name": "stdout",
     "output_type": "stream",
     "text": [
      "viya_DataOps\n",
      "viya_DataOps/utils\n",
      "viya_DataOps/programs\n",
      "viya_DataOps/macros\n",
      "viya_DataOps/jenkins\n"
     ]
    }
   ],
   "source": [
    "# Add public_id to dictionary\n",
    "list = {'root': root_id}\n",
    "\n",
    "fname = []\n",
    "# Loop through directories\n",
    "for root,d_names,f_names in os.walk(path):\n",
    "    # Root path is replaced with target folder\n",
    "    root_stripped = root.replace(path, target_folder)\n",
    "    if root_stripped.find('.') != -1: \n",
    "        continue\n",
    "    print(root_stripped)\n",
    "    root_parts = root_stripped.split('/')\n",
    "    number_parts = len(root_parts)\n",
    "    current_dir = root_parts[-1]\n",
    "    if number_parts == 1:\n",
    "        parent_dir = 'root'\n",
    "    elif number_parts > 1:\n",
    "        parent_dir = root_parts[-2]\n",
    "\n",
    "    # Lookup parent_id\n",
    "    parent_uri = list[parent_dir]\n",
    "    \n",
    "    # Create subfolder\n",
    "    response = create_folder (hostport, authToken, parent_uri, current_dir)\n",
    "    folder_id = response.json().get(\"id\")\n",
    "    \n",
    "    # Add current_dir to dictionary\n",
    "    list[current_dir] = response.json().get(\"id\")\n",
    "    \n",
    "    for one_file in f_names:\n",
    "        infile = root + '/' + one_file\n",
    "        response = upload_file (hostport, authToken, infile, one_file)\n",
    "        file_id = response.json().get(\"id\")\n",
    "        associate_file_with_folder (hostport, authToken, folder_id, file_id, one_file)\n"
   ]
  }
 ],
 "metadata": {
  "kernelspec": {
   "display_name": "Python 3",
   "language": "python",
   "name": "python3"
  },
  "language_info": {
   "codemirror_mode": {
    "name": "ipython",
    "version": 3
   },
   "file_extension": ".py",
   "mimetype": "text/x-python",
   "name": "python",
   "nbconvert_exporter": "python",
   "pygments_lexer": "ipython3",
   "version": "3.6.8"
  },
  "vscode": {
   "interpreter": {
    "hash": "916dbcbb3f70747c44a77c7bcd40155683ae19c65e1c03b4aa3499c5328201f1"
   }
  }
 },
 "nbformat": 4,
 "nbformat_minor": 5
}
