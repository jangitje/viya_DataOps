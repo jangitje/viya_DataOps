{
 "cells": [
  {
   "attachments": {},
   "cell_type": "markdown",
   "id": "bda94074",
   "metadata": {},
   "source": [
    "#### Modules"
   ]
  },
  {
   "cell_type": "code",
   "execution_count": 6,
   "id": "ad3883ac-514c-46e4-a029-3fb52b0a8a64",
   "metadata": {},
   "outputs": [],
   "source": [
    "import requests\n",
    "import json, os, pprint\n",
    "import getpass\n",
    "import base64\n",
    "import urllib.parse\n",
    "\n",
    "#import utils.Viya_REST_API\n",
    "\n",
    "requests.packages.urllib3.disable_warnings()"
   ]
  },
  {
   "cell_type": "markdown",
   "id": "32e7b323-9d6b-4a28-9283-26e39127fe29",
   "metadata": {},
   "source": [
    "#### Parameters"
   ]
  },
  {
   "cell_type": "code",
   "execution_count": 7,
   "id": "50e98a52-07a3-4ebb-8d1a-268dc6dd6fb7",
   "metadata": {},
   "outputs": [],
   "source": [
    "hostport=\"\"https://sasserver.demo.sas.com:443\"\n",
    "clientId=\"myclientid2\"\n",
    "clientSecret=\"myclientsecret2\""
   ]
  },
  {
   "attachments": {},
   "cell_type": "markdown",
   "id": "3914a94c-9006-43e4-afc1-0e6d3d652d95",
   "metadata": {},
   "source": [
    "#### Get token for user"
   ]
  },
  {
   "cell_type": "code",
   "execution_count": null,
   "id": "d14b83ed",
   "metadata": {},
   "outputs": [],
   "source": [
    "#Get Authorization Token\n",
    "authUri=\"/SASLogon/oauth/token/sas.cli\"\n",
    "\n",
    "headersAuth={\n",
    "    \"accept\":\"application/json\",\n",
    "    \"content-type\":\"application/x-www-form-urlencoded\",\n",
    "    \"Authorization\":\"Basic c2FzLmVjOg==\"\n",
    "}\n",
    "authToken=\"\"\n",
    "user=\"\"\n",
    "password=\"\"\n",
    "notAuthed=True\n",
    "\n",
    "while notAuthed :\n",
    "    user = input(\"Enter user ID: \")\n",
    "    password =  urllib.parse.quote(getpass.getpass('Enter password for user %s:' % user))\n",
    "    authBody='grant_type=password&username=' + user + '&password=' + password\n",
    "\n",
    "    authReturn = requests.post(hostport+authUri, data=authBody, headers=headersAuth, verify=False)\n",
    "    if authReturn.status_code == requests.codes.ok :\n",
    "        authToken = authReturn.json()['access_token']\n",
    "        notAuthed = False\n",
    "    else :\n",
    "        print(\"Please enter a valid user ID and password.\")\n",
    "    \n",
    "password = \"\"\n",
    "\n",
    "print(authToken)\n"
   ]
  },
  {
   "cell_type": "markdown",
   "id": "8fd7ac80",
   "metadata": {},
   "source": [
    "#### Authorize a client"
   ]
  },
  {
   "cell_type": "code",
   "execution_count": null,
   "id": "5a55664b",
   "metadata": {},
   "outputs": [],
   "source": [
    "url=hostport + \"/SASLogon/oauth/clients\"\n",
    "headers={\n",
    "    \"Content-Type\":\"application/json\",\n",
    "    \"Authorization\": 'Bearer ' + authToken\n",
    "}\n",
    "\n",
    "body={\n",
    "    \"client_id\": + clientId , \n",
    "    \"client_secret\": + clientSecret ,\n",
    "    \"scope\": [\"*\"],\n",
    "    \"authorized_grant_types\": [\"authorization_code\",\"refresh_token\"],\n",
    "    \"redirect_uri\": \"urn:ietf:wg:oauth:2.0:oob\"\n",
    "}\n",
    "\n",
    "response = requests.post( url, \n",
    "                          data = json.dumps(body), \n",
    "                          headers = headers,\n",
    "                          verify=False)\n",
    "pprint.pprint(response.json())"
   ]
  }
 ],
 "metadata": {
  "kernelspec": {
   "display_name": "Python 3",
   "language": "python",
   "name": "python3"
  },
  "language_info": {
   "codemirror_mode": {
    "name": "ipython",
    "version": 3
   },
   "file_extension": ".py",
   "mimetype": "text/x-python",
   "name": "python",
   "nbconvert_exporter": "python",
   "pygments_lexer": "ipython3",
   "version": "3.10.8"
  },
  "vscode": {
   "interpreter": {
    "hash": "a9c16a874fbaab491bc382936db6978ef7ff572adb50f82f1bfd360e4815609b"
   }
  }
 },
 "nbformat": 4,
 "nbformat_minor": 5
}
