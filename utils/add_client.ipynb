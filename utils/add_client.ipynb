{
 "cells": [
  {
   "attachments": {},
   "cell_type": "markdown",
   "id": "bda94074",
   "metadata": {},
   "source": [
    "#### Modules"
   ]
  },
  {
   "cell_type": "code",
   "execution_count": 2,
   "id": "ad3883ac-514c-46e4-a029-3fb52b0a8a64",
   "metadata": {},
   "outputs": [],
   "source": [
    "import requests\n",
    "import json, os, pprint\n",
    "import getpass\n",
    "import base64\n",
    "import urllib.parse\n",
    "\n",
    "#import utils.Viya_REST_API\n",
    "\n",
    "requests.packages.urllib3.disable_warnings()"
   ]
  },
  {
   "cell_type": "markdown",
   "id": "32e7b323-9d6b-4a28-9283-26e39127fe29",
   "metadata": {},
   "source": [
    "#### Parameters"
   ]
  },
  {
   "cell_type": "code",
   "execution_count": 7,
   "id": "50e98a52-07a3-4ebb-8d1a-268dc6dd6fb7",
   "metadata": {},
   "outputs": [],
   "source": [
    "hostport=\"https://azureuse030113.race.sas.com:443\"\n",
    "clientId=\"myclientid2\"\n",
    "clientSecret=\"myclientsecret2\""
   ]
  },
  {
   "attachments": {},
   "cell_type": "markdown",
   "id": "3914a94c-9006-43e4-afc1-0e6d3d652d95",
   "metadata": {},
   "source": [
    "#### Get token for user"
   ]
  },
  {
   "cell_type": "code",
   "execution_count": 5,
   "id": "d14b83ed",
   "metadata": {},
   "outputs": [
    {
     "name": "stdout",
     "output_type": "stream",
     "text": [
      "eyJhbGciOiJSUzI1NiIsImprdSI6Imh0dHBzOi8vbG9jYWxob3N0L1NBU0xvZ29uL3Rva2VuX2tleXMiLCJraWQiOiJsZWdhY3ktdG9rZW4ta2V5IiwidHlwIjoiSldUIn0.eyJqdGkiOiIwM2E5YjdjZTNkZDI0N2M1OGNjN2UzMDUwZDA4MDNmYSIsImV4dF9pZCI6InVpZD1zYXNkZW1vLG91PXVzZXJzLGRjPXZpeWEsZGM9Y29tIiwic3ViIjoiNTg3YzQ4OTQtMTFiMi00YzM1LWI1ZDEtNjA1NDFkNzM5MjA0Iiwic2NvcGUiOlsiREJVc2VycyIsInN2aXVzcnMiLCJzYXN1c2VycyIsInN2aWFkbXMiLCJzYXNhZG1pbnMiLCJjbGllbnRzLnJlYWQiLCJjbGllbnRzLnNlY3JldCIsInVhYS5yZXNvdXJjZSIsIlNBU0dST1VQMSIsIm9wZW5pZCIsIlNBU0dST1VQMiIsIlNBU0dST1VQMyIsInVhYS5hZG1pbiIsImNsaWVudHMuYWRtaW4iLCJzY2ltLnJlYWQiLCJ2c2RkbmdzIiwiU0FTQWRtaW5pc3RyYXRvcnMiLCJTQVNERU1PVVNFUlMiLCJjbGllbnRzLndyaXRlIiwiQ29tcHV0ZVNlcnZpY2VBY2NvdW50VXNlcnMiLCJzY2ltLndyaXRlIiwiU0FTIEdyb3VwIiwiQ0FTSG9zdEFjY291bnRSZXF1aXJlZCJdLCJjbGllbnRfaWQiOiJzYXMuZWMiLCJjaWQiOiJzYXMuZWMiLCJhenAiOiJzYXMuZWMiLCJncmFudF90eXBlIjoicGFzc3dvcmQiLCJ1c2VyX2lkIjoiNTg3YzQ4OTQtMTFiMi00YzM1LWI1ZDEtNjA1NDFkNzM5MjA0Iiwib3JpZ2luIjoibGRhcCIsInVzZXJfbmFtZSI6InNhc2RlbW8iLCJlbWFpbCI6InNhc2RlbW9Ac2Fzc2VydmVyLmRlbW8uc2FzLmNvbSIsImF1dGhfdGltZSI6MTY3NjYyOTk2NiwicmV2X3NpZyI6ImUzNGVjNjE0IiwiaWF0IjoxNjc2NjI5OTY2LCJleHAiOjE2ODQ2Mjk5NjYsImlzcyI6Imh0dHA6Ly9sb2NhbGhvc3QvU0FTTG9nb24vb2F1dGgvdG9rZW4iLCJ6aWQiOiJ1YWEiLCJhdWQiOlsic2NpbSIsImNsaWVudHMiLCJzYXMuKiIsInVhYSIsIm9wZW5pZCIsInNhcy5lYyJdfQ.HZ4ly_O0M6e5KLjTUK5nNjVxB2M3508UlrrELQB-pUNfgVoUqfb3_Ii0pB068YIsvcrRmWB1fQ00SR1nDtgjKxTHB4uizQyO6VkGv_3wQ58zSHCk9Vz-87MaU63jriZS8F9ra9TG-9HUsNjjTGr2MAemrveKoM9JGuUJp1T9KFP68CDnUJlgh0l6eS0mHy1GnOrg2yo4RqO8ymm3Hw0z6ehKRI_OuZ9mh918pJ_rwt4jGkJbvo_AnNyytbx-Hztq88zHjYkVvnHjGVQdJIvJR9XvxWpWywsCh8bnJTr0JSWK_dLdk76B9pizD6ihDEh9sm5AnCS-P3F8iVUOTRnoQQ\n"
     ]
    }
   ],
   "source": [
    "#Get Authorization Token\n",
    "authUri=\"/SASLogon/oauth/token/sas.cli\"\n",
    "\n",
    "headersAuth={\n",
    "    \"accept\":\"application/json\",\n",
    "    \"content-type\":\"application/x-www-form-urlencoded\",\n",
    "    \"Authorization\":\"Basic c2FzLmVjOg==\"\n",
    "}\n",
    "authToken=\"\"\n",
    "user=\"\"\n",
    "password=\"\"\n",
    "notAuthed=True\n",
    "\n",
    "while notAuthed :\n",
    "    user = input(\"Enter user ID: \")\n",
    "    password =  urllib.parse.quote(getpass.getpass('Enter password for user %s:' % user))\n",
    "    authBody='grant_type=password&username=' + user + '&password=' + password\n",
    "\n",
    "    authReturn = requests.post(hostport+authUri, data=authBody, headers=headersAuth, verify=False)\n",
    "    if authReturn.status_code == requests.codes.ok :\n",
    "        authToken = authReturn.json()['access_token']\n",
    "        notAuthed = False\n",
    "    else :\n",
    "        print(\"Please enter a valid user ID and password.\")\n",
    "    \n",
    "password = \"\"\n",
    "\n",
    "print(authToken)\n"
   ]
  },
  {
   "cell_type": "markdown",
   "id": "8fd7ac80",
   "metadata": {},
   "source": [
    "#### Authorize a client"
   ]
  },
  {
   "cell_type": "code",
   "execution_count": 10,
   "id": "5a55664b",
   "metadata": {},
   "outputs": [
    {
     "name": "stdout",
     "output_type": "stream",
     "text": [
      "{'authorities': ['uaa.none'],\n",
      " 'authorized_grant_types': ['refresh_token', 'authorization_code'],\n",
      " 'autoapprove': [],\n",
      " 'client_id': 'myclientid2',\n",
      " 'lastModified': 1676630261510,\n",
      " 'redirect_uri': ['urn:ietf:wg:oauth:2.0:oob'],\n",
      " 'required_user_groups': [],\n",
      " 'resource_ids': ['none'],\n",
      " 'scope': ['*']}\n"
     ]
    }
   ],
   "source": [
    "url=hostport + \"/SASLogon/oauth/clients\"\n",
    "headers={\n",
    "    \"Content-Type\":\"application/json\",\n",
    "    \"Authorization\": 'Bearer ' + authToken\n",
    "}\n",
    "\n",
    "body={\n",
    "    \"client_id\": \"\" + clientId , \n",
    "    \"client_secret\": \"\" + clientSecret ,\n",
    "    \"scope\": [\"*\"],\n",
    "    \"authorized_grant_types\": [\"authorization_code\",\"refresh_token\"],\n",
    "    \"redirect_uri\": \"urn:ietf:wg:oauth:2.0:oob\"\n",
    "}\n",
    "\n",
    "response = requests.post( url, \n",
    "                          data = json.dumps(body), \n",
    "                          headers = headers,\n",
    "                          verify=False)\n",
    "pprint.pprint(response.json())"
   ]
  }
 ],
 "metadata": {
  "kernelspec": {
   "display_name": "base",
   "language": "python",
   "name": "python3"
  },
  "language_info": {
   "codemirror_mode": {
    "name": "ipython",
    "version": 3
   },
   "file_extension": ".py",
   "mimetype": "text/x-python",
   "name": "python",
   "nbconvert_exporter": "python",
   "pygments_lexer": "ipython3",
   "version": "3.9.12"
  },
  "vscode": {
   "interpreter": {
    "hash": "40d3a090f54c6569ab1632332b64b2c03c39dcf918b08424e98f38b5ae0af88f"
   }
  }
 },
 "nbformat": 4,
 "nbformat_minor": 5
}
